{
 "cells": [
  {
   "cell_type": "code",
   "execution_count": 1,
   "metadata": {},
   "outputs": [],
   "source": [
    "import requests\n",
    "from lxml import html\n",
    "import pandas as pd\n",
    "import numpy as np"
   ]
  },
  {
   "cell_type": "code",
   "execution_count": 2,
   "metadata": {},
   "outputs": [],
   "source": [
    "def search(xpath,url):\n",
    "    # find the useful company information from website\n",
    "    r = requests.get(url).content \n",
    "    sel = html.fromstring(r)\n",
    "    return sel.xpath(xpath)"
   ]
  },
  {
   "cell_type": "code",
   "execution_count": 3,
   "metadata": {},
   "outputs": [],
   "source": [
    "def get_company_inf():\n",
    "    company_inf=[]\n",
    "    for epic in company_list:\n",
    "        url = 'https://shares.telegraph.co.uk/fundamentals/?epic= '+ epic\n",
    "        company_epic = epic\n",
    "        company_name = search('//*[@id=\"TPContainer\"]/table[3]/tr[1]/td[1]/text()',url) \n",
    "        company_sector = search('//*[@id=\"TPContainer\"]/table[3]/tr[2]/td[1]/text()',url) \n",
    "        company_activites = search('//*[@id=\"TPContainer\"]/table[3]/tr[3]/td[1]/text()',url)\n",
    "        company = {  'company_epic':company_epic,\n",
    "                     'company_name':company_name[0],\n",
    "                     'company_sector':company_sector[0],\n",
    "                     'company_activites':company_activites[0]\n",
    "                   }\n",
    "        company_inf.append(company) \n",
    "    return company_inf"
   ]
  },
  {
   "cell_type": "code",
   "execution_count": 4,
   "metadata": {},
   "outputs": [],
   "source": [
    "def save_csv():\n",
    "    csv_file = pd.DataFrame(company_inf)\n",
    "    cols = ['company_epic','company_name','company_sector','company_activites']\n",
    "    csv_file = csv_file.loc[:,cols]\n",
    "    csv_file.to_csv('company_inf.csv',index=False)"
   ]
  },
  {
   "cell_type": "code",
   "execution_count": 5,
   "metadata": {},
   "outputs": [],
   "source": [
    "def save_txt():\n",
    "    for company in company_inf:\n",
    "        with open('company_inf.txt', 'a', encoding='utf-8')as f:\n",
    "            f.write(company['company_epic'] + ',' + company['company_name'] + ',' + company['company_sector'] + ',' + company['company_activites'] + '\\n')"
   ]
  },
  {
   "cell_type": "code",
   "execution_count": null,
   "metadata": {},
   "outputs": [],
   "source": [
    "if __name__ == '__main__':\n",
    "    company = pd.read_csv('FTSE_250.csv')\n",
    "    company_list = company.Epic\n",
    "    company_inf = get_company_inf()\n",
    "    #save_txt()\n",
    "    #save_csv()"
   ]
  },
  {
   "cell_type": "code",
   "execution_count": 9,
   "metadata": {},
   "outputs": [
    {
     "data": {
      "text/plain": [
       "[{'company_epic': '3IN',\n",
       "  'company_name': '3i Infrastructure',\n",
       "  'company_sector': 'Equity Investment Instruments',\n",
       "  'company_activites': \"3i Infrastructure plc is a Jersey-incorporated, closed-ended investment company, listed on the London Stock Exchange and regulated by the Jersey Financial Services Commission. The Company is a long-term investor in infrastructure businesses and assets. The Company's market focus is on economic infrastructure and greenfield projects in developed economies, principally in Europe, investing in operating businesses and projects which generate long-term yield and capital growth. 3i Investments plc, a wholly-owned subsidiary of 3i Group plc, is authorised and regulated in the UK by the Financial Conduct Authority and acts as Investment Adviser to 3i Infrastructure plc.\"},\n",
       " {'company_epic': '888',\n",
       "  'company_name': '888 Holdings',\n",
       "  'company_sector': 'Travel & Leisure',\n",
       "  'company_activites': \"888 Holdings Public Limited Company (888) is one of the world's most popular online gaming entertainment and solutions providers. 888's mission is to supply its customers with innovative and market-leading online gaming products, above all in a safe and secure environment. 888 has been at the forefront of the online gaming industry since foundation in 1997, providing to players and B2B partners an always innovative and world-class online gaming experience. At the heart of 888's business is its proprietary gaming technology and associated platforms. The Group is structured into two lines of business: B2C, under the 888 brands, and B2B, conducted through Dragonfish, which provides partners a leading platform through which to establish an online gaming presence and monetise their own brands.\"},\n",
       " {'company_epic': 'ACA',\n",
       "  'company_name': 'Acacia Mining',\n",
       "  'company_sector': 'Mining',\n",
       "  'company_activites': \"Acacia Mining plc (formerly African Barrick Gold plc) is Tanzania's largest gold miner and one of the largest producers of gold in Africa. It has three mines, all located in north-west Tanzania: Bulyanhulu, Buzwagi, and North Mara and a portfolio of exploration projects in Kenya, Burkina Faso and Mali. Acacia is a UK public company headquartered in London. It is listed on the Main Market of the London Stock Exchange with a secondary listing on the Dar es Salaam Stock Exchange. Barrick Gold Corporation is its majority shareholder.\"},\n",
       " {'company_epic': 'AGK',\n",
       "  'company_name': 'Aggreko',\n",
       "  'company_sector': 'Support Services',\n",
       "  'company_activites': 'Aggreko provides rental power generators, temperature control equipment and compressed air systems to companies around the world. It operates across all sectors, including oil and gas, petrochemical and refining, utilities, manufacturing, construction, mining and events. It designs and manufactures equipment specifically for these requirements in its factory in Dumbarton, Scotland and work with leading innovators to ensure our equipment offers maximum fuel flexibility, by using gas, diesel (including HFO) and renewable fuel sources.'},\n",
       " {'company_epic': 'AGR',\n",
       "  'company_name': 'Assura Group',\n",
       "  'company_sector': 'Real Estate Investment Trusts',\n",
       "  'company_activites': 'Assura plc is a UK REIT and long-term investor in and developer of primary care property. The company, headquartered in Warrington, works with GPs, health professionals and the NHS to create innovative property solutions in order to facilitate delivery of high-quality patient care in the community.'}]"
      ]
     },
     "execution_count": 9,
     "metadata": {},
     "output_type": "execute_result"
    }
   ],
   "source": [
    "company_inf[0:5]"
   ]
  },
  {
   "cell_type": "code",
   "execution_count": null,
   "metadata": {},
   "outputs": [],
   "source": []
  }
 ],
 "metadata": {
  "kernelspec": {
   "display_name": "Python 3",
   "language": "python",
   "name": "python3"
  },
  "language_info": {
   "codemirror_mode": {
    "name": "ipython",
    "version": 3
   },
   "file_extension": ".py",
   "mimetype": "text/x-python",
   "name": "python",
   "nbconvert_exporter": "python",
   "pygments_lexer": "ipython3",
   "version": "3.7.0"
  }
 },
 "nbformat": 4,
 "nbformat_minor": 2
}

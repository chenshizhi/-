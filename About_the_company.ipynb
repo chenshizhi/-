{
 "cells": [
  {
   "cell_type": "code",
   "execution_count": 1,
   "metadata": {},
   "outputs": [],
   "source": [
    "import requests\n",
    "from lxml import html\n",
    "import pandas as pd"
   ]
  },
  {
   "cell_type": "code",
   "execution_count": 2,
   "metadata": {},
   "outputs": [],
   "source": [
    "company = pd.read_csv('FTSE_250.csv')\n",
    "company_list = company.Epic"
   ]
  },
  {
   "cell_type": "code",
   "execution_count": 3,
   "metadata": {},
   "outputs": [
    {
     "data": {
      "text/html": [
       "<div>\n",
       "<style scoped>\n",
       "    .dataframe tbody tr th:only-of-type {\n",
       "        vertical-align: middle;\n",
       "    }\n",
       "\n",
       "    .dataframe tbody tr th {\n",
       "        vertical-align: top;\n",
       "    }\n",
       "\n",
       "    .dataframe thead th {\n",
       "        text-align: right;\n",
       "    }\n",
       "</style>\n",
       "<table border=\"1\" class=\"dataframe\">\n",
       "  <thead>\n",
       "    <tr style=\"text-align: right;\">\n",
       "      <th></th>\n",
       "      <th>Epic</th>\n",
       "      <th>Company_Name</th>\n",
       "    </tr>\n",
       "  </thead>\n",
       "  <tbody>\n",
       "    <tr>\n",
       "      <th>0</th>\n",
       "      <td>3IN</td>\n",
       "      <td>3i Infrastructure</td>\n",
       "    </tr>\n",
       "    <tr>\n",
       "      <th>1</th>\n",
       "      <td>888</td>\n",
       "      <td>888 Holdings</td>\n",
       "    </tr>\n",
       "    <tr>\n",
       "      <th>2</th>\n",
       "      <td>ACA</td>\n",
       "      <td>Acacia Mining</td>\n",
       "    </tr>\n",
       "    <tr>\n",
       "      <th>3</th>\n",
       "      <td>AGK</td>\n",
       "      <td>Aggreko</td>\n",
       "    </tr>\n",
       "    <tr>\n",
       "      <th>4</th>\n",
       "      <td>AGR</td>\n",
       "      <td>Assura Group</td>\n",
       "    </tr>\n",
       "  </tbody>\n",
       "</table>\n",
       "</div>"
      ],
      "text/plain": [
       "  Epic       Company_Name\n",
       "0  3IN  3i Infrastructure\n",
       "1  888       888 Holdings\n",
       "2  ACA      Acacia Mining\n",
       "3  AGK            Aggreko\n",
       "4  AGR       Assura Group"
      ]
     },
     "execution_count": 3,
     "metadata": {},
     "output_type": "execute_result"
    }
   ],
   "source": [
    "company.head()"
   ]
  },
  {
   "cell_type": "code",
   "execution_count": 4,
   "metadata": {},
   "outputs": [],
   "source": [
    "def search(xpath,url):\n",
    "    # find the useful company information from website\n",
    "    r = requests.get(url).content \n",
    "    sel = html.fromstring(r)\n",
    "    return sel.xpath(xpath)"
   ]
  },
  {
   "cell_type": "code",
   "execution_count": 5,
   "metadata": {},
   "outputs": [],
   "source": [
    "def get_company_inf():\n",
    "    company_profile=[]\n",
    "    for epic in company_list:\n",
    "        url = 'https://markets.ft.com/data/equities/tearsheet/profile?s='+ epic + ':LSE'\n",
    "        company_epic = epic \n",
    "        company_inf_1 = search('/html/body/div[3]/div[2]/section[3]/div[1]/div/div/p/text()',url)\n",
    "        company_inf_2 = search('/html/body/div[3]/div[2]/section[3]/div[1]/div/div/p/span/span/text()',url)\n",
    "        company_revenue = search('/html/body/div[3]/div[2]/section[3]/div[1]/div/div/ul[1]/li[1]/span[2]/span/text()',url)\n",
    "        company_date = search('/html/body/div[3]/div[2]/section[3]/div[1]/div/div/ul[1]/li[3]/span[2]/text()',url)\n",
    "        company_employees = search('/html/body/div[3]/div[2]/section[3]/div[1]/div/div/ul[1]/li[4]/span[2]/text()',url)\n",
    "        company_location = search('/html/body/div[3]/div[2]/section[3]/div[1]/div/div/ul[2]/li[1]/span[2]/address/span[4]/text()',url)\n",
    "        company_inf = company_inf_1[0] + company_inf_2[0]\n",
    "        company = {  'Epic':company_epic,\n",
    "                     'About_the_company':company_inf,\n",
    "                     'Revenue':company_revenue[0],\n",
    "                     'Incorporated':company_date[0],\n",
    "                     'Employees':company_employees[0],\n",
    "                     'Country':company_location[0]\n",
    "                   }\n",
    "        company_profile.append(company) \n",
    "    return company_profile"
   ]
  },
  {
   "cell_type": "code",
   "execution_count": 6,
   "metadata": {},
   "outputs": [
    {
     "ename": "IndexError",
     "evalue": "list index out of range",
     "output_type": "error",
     "traceback": [
      "\u001b[1;31m---------------------------------------------------------------------------\u001b[0m",
      "\u001b[1;31mIndexError\u001b[0m                                Traceback (most recent call last)",
      "\u001b[1;32m<ipython-input-6-cd3ddf428318>\u001b[0m in \u001b[0;36m<module>\u001b[1;34m()\u001b[0m\n\u001b[1;32m----> 1\u001b[1;33m \u001b[0mcompany_profile\u001b[0m \u001b[1;33m=\u001b[0m \u001b[0mget_company_inf\u001b[0m\u001b[1;33m(\u001b[0m\u001b[1;33m)\u001b[0m\u001b[1;33m\u001b[0m\u001b[0m\n\u001b[0m\u001b[0;32m      2\u001b[0m \u001b[0mcols\u001b[0m \u001b[1;33m=\u001b[0m \u001b[1;33m[\u001b[0m\u001b[1;34m'Epic'\u001b[0m\u001b[1;33m,\u001b[0m\u001b[1;34m'Incorporated'\u001b[0m\u001b[1;33m,\u001b[0m\u001b[1;34m'Country'\u001b[0m\u001b[1;33m,\u001b[0m\u001b[1;34m'Employees'\u001b[0m\u001b[1;33m,\u001b[0m\u001b[1;34m'Revenue'\u001b[0m\u001b[1;33m,\u001b[0m\u001b[1;34m'About_the_company'\u001b[0m\u001b[1;33m]\u001b[0m\u001b[1;33m\u001b[0m\u001b[0m\n\u001b[0;32m      3\u001b[0m \u001b[0mcompany_profile\u001b[0m \u001b[1;33m=\u001b[0m \u001b[0mpd\u001b[0m\u001b[1;33m.\u001b[0m\u001b[0mDataFrame\u001b[0m\u001b[1;33m(\u001b[0m\u001b[0mcompany_profile\u001b[0m\u001b[1;33m)\u001b[0m\u001b[1;33m.\u001b[0m\u001b[0mloc\u001b[0m\u001b[1;33m[\u001b[0m\u001b[1;33m:\u001b[0m\u001b[1;33m,\u001b[0m\u001b[0mcols\u001b[0m\u001b[1;33m]\u001b[0m\u001b[1;33m\u001b[0m\u001b[0m\n\u001b[0;32m      4\u001b[0m \u001b[0mcompany_profile\u001b[0m\u001b[1;33m\u001b[0m\u001b[0m\n",
      "\u001b[1;32m<ipython-input-5-c7c1d8e1a9b0>\u001b[0m in \u001b[0;36mget_company_inf\u001b[1;34m()\u001b[0m\n\u001b[0;32m     10\u001b[0m         \u001b[0mcompany_employees\u001b[0m \u001b[1;33m=\u001b[0m \u001b[0msearch\u001b[0m\u001b[1;33m(\u001b[0m\u001b[1;34m'/html/body/div[3]/div[2]/section[3]/div[1]/div/div/ul[1]/li[4]/span[2]/text()'\u001b[0m\u001b[1;33m,\u001b[0m\u001b[0murl\u001b[0m\u001b[1;33m)\u001b[0m\u001b[1;33m\u001b[0m\u001b[0m\n\u001b[0;32m     11\u001b[0m         \u001b[0mcompany_location\u001b[0m \u001b[1;33m=\u001b[0m \u001b[0msearch\u001b[0m\u001b[1;33m(\u001b[0m\u001b[1;34m'/html/body/div[3]/div[2]/section[3]/div[1]/div/div/ul[2]/li[1]/span[2]/address/span[4]/text()'\u001b[0m\u001b[1;33m,\u001b[0m\u001b[0murl\u001b[0m\u001b[1;33m)\u001b[0m\u001b[1;33m\u001b[0m\u001b[0m\n\u001b[1;32m---> 12\u001b[1;33m         \u001b[0mcompany_inf\u001b[0m \u001b[1;33m=\u001b[0m \u001b[0mcompany_inf_1\u001b[0m\u001b[1;33m[\u001b[0m\u001b[1;36m0\u001b[0m\u001b[1;33m]\u001b[0m \u001b[1;33m+\u001b[0m \u001b[0mcompany_inf_2\u001b[0m\u001b[1;33m[\u001b[0m\u001b[1;36m0\u001b[0m\u001b[1;33m]\u001b[0m\u001b[1;33m\u001b[0m\u001b[0m\n\u001b[0m\u001b[0;32m     13\u001b[0m         company = {  'Epic':company_epic,\n\u001b[0;32m     14\u001b[0m                      \u001b[1;34m'About_the_company'\u001b[0m\u001b[1;33m:\u001b[0m\u001b[0mcompany_inf\u001b[0m\u001b[1;33m,\u001b[0m\u001b[1;33m\u001b[0m\u001b[0m\n",
      "\u001b[1;31mIndexError\u001b[0m: list index out of range"
     ]
    }
   ],
   "source": [
    "company_profile = get_company_inf()\n",
    "cols = ['Epic','Incorporated','Country','Employees','Revenue','About_the_company']\n",
    "company_profile = pd.DataFrame(company_profile).loc[:,cols]\n",
    "company_profile"
   ]
  },
  {
   "cell_type": "code",
   "execution_count": null,
   "metadata": {},
   "outputs": [],
   "source": []
  },
  {
   "cell_type": "code",
   "execution_count": null,
   "metadata": {},
   "outputs": [],
   "source": []
  }
 ],
 "metadata": {
  "kernelspec": {
   "display_name": "Python 3",
   "language": "python",
   "name": "python3"
  },
  "language_info": {
   "codemirror_mode": {
    "name": "ipython",
    "version": 3
   },
   "file_extension": ".py",
   "mimetype": "text/x-python",
   "name": "python",
   "nbconvert_exporter": "python",
   "pygments_lexer": "ipython3",
   "version": "3.7.0"
  }
 },
 "nbformat": 4,
 "nbformat_minor": 2
}
